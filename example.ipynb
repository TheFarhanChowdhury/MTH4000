{
 "cells": [
  {
   "cell_type": "code",
   "execution_count": null,
   "id": "5b680be6-8268-4f18-ba08-ace00cfcb705",
   "metadata": {
    "vscode": {
     "languageId": "python"
    }
   },
   "outputs": [],
   "source": [
    "print('hello there')\n",
    "\n",
    "print('this part was done in github.dev')"
   ]
  }
 ],
 "metadata": {
  "kernelspec": {
   "display_name": "Python 3 (ipykernel)",
   "language": "python",
   "name": "python3"
  },
  "language_info": {
   "name": ""
  }
 },
 "nbformat": 4,
 "nbformat_minor": 5
}
